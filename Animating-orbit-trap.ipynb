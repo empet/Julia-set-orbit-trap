{
 "cells": [
  {
   "cell_type": "code",
   "execution_count": null,
   "id": "da4789b2",
   "metadata": {},
   "outputs": [],
   "source": [
    "include(\"Orbittrapimg.jl\")   \n",
    "import Plots:Animation, buildanimation"
   ]
  },
  {
   "cell_type": "code",
   "execution_count": null,
   "id": "47fb8b89",
   "metadata": {},
   "outputs": [],
   "source": [
    "let\n",
    "    img = load(\"imgs/new-sunflower.png\")\n",
    "\n",
    "    juliaset = Imageotrap(z->z^2+0.272, img, (a=-0.25, b=0.25, c=-0.25, d=0.25), \n",
    "                         (xmin=-1.4, xmax=1.4, ymin=-1.4, ymax=1.4), (750, 700))\n",
    "    t = 0.25:0.05:1.15\n",
    "    t = vcat(collect(t), [t[end] for _ in 1:5], t[end:-1:1])\n",
    "    fnames = String[]\n",
    "    for (k, s) in enumerate(t)\n",
    "        juliaset.imgrectgl = (a=-0.25, b=s, c=-0.25, d=s)\n",
    "        fritp = image2Juliaset(juliaset; bgcolor=RGB{N0f8}(0,0,0))\n",
    "        filename = lpad(k, 6, \"0\")*\".png\"\n",
    "        push!(fnames, filename)\n",
    "        save(\"temp/\"*filename, fritp)            \n",
    "    end\n",
    "    anim = Animation(\"temp\", fnames)\n",
    "    buildanimation(anim, \"sunflower-franimop.gif\", fps = 6, show_msg=false)\n",
    "end  "
   ]
  },
  {
   "cell_type": "markdown",
   "id": "d0abc4c3",
   "metadata": {},
   "source": [
    "The corresponding animation is the second gif file displayed in README.md"
   ]
  },
  {
   "cell_type": "code",
   "execution_count": null,
   "id": "40b67273",
   "metadata": {},
   "outputs": [],
   "source": []
  }
 ],
 "metadata": {
  "@webio": {
   "lastCommId": null,
   "lastKernelId": null
  },
  "kernelspec": {
   "display_name": "Julia 1.9.0",
   "language": "julia",
   "name": "julia-1.9"
  },
  "language_info": {
   "file_extension": ".jl",
   "mimetype": "application/julia",
   "name": "julia",
   "version": "1.9.0"
  }
 },
 "nbformat": 4,
 "nbformat_minor": 5
}
